{
 "cells": [
  {
   "cell_type": "code",
   "execution_count": 3,
   "id": "03ecf731",
   "metadata": {},
   "outputs": [
    {
     "name": "stdout",
     "output_type": "stream",
     "text": [
      "Requirement already satisfied: prettytable in /Users/kolawole/opt/anaconda3/envs/pythonenv/lib/python3.11/site-packages (3.9.0)\n",
      "Requirement already satisfied: wcwidth in /Users/kolawole/opt/anaconda3/envs/pythonenv/lib/python3.11/site-packages (from prettytable) (0.2.6)\n",
      "Note: you may need to restart the kernel to use updated packages.\n"
     ]
    }
   ],
   "source": [
    "%pip install prettytable"
   ]
  },
  {
   "cell_type": "code",
   "execution_count": 4,
   "id": "c1d92526",
   "metadata": {},
   "outputs": [],
   "source": [
    "import requests\n",
    "import pandas as pd\n",
    "from prettytable import PrettyTable\n",
    "import json\n",
    "\n",
    "# Credemtials\n",
    "tableobj = PrettyTable()\n",
    "KeyVal = '2a9ba28e-318e-432d-8286-bc035bda5485'\n",
    "\n",
    "api_endpoint = 'https://pro-api.coinmarketcap.com/v1/cryptocurrency/listings/latest?CMC_PRO_API_KEY='\n",
    "api_endpoint += KeyVal\n",
    "\n",
    "# Get data in json format\n",
    "json_data = requests.get(api_endpoint).json()\n",
    "\n",
    "#Store data from json\n",
    "cryptodata = json_data ['data']\n",
    "\n",
    "# Data needed\n",
    "for currency in cryptodata:\n",
    "    curr_name = currency ['name']\n",
    "    curr_price = currency ['quote']['USD']['price']\n",
    "    curr_change_1h = currency ['quote']['USD']['percent_change_1h']\n",
    "    curr_change_24h = currency ['quote']['USD']['percent_change_24h']\n",
    "    curr_change_7d = currency ['quote']['USD']['percent_change_7d']\n",
    "    market_cap = currency ['quote']['USD']['market_cap']\n",
    "    market_cap_dominance = currency ['quote']['USD']['market_cap_dominance']\n",
    "    tableobj.add_row([curr_name, curr_price, curr_change_1h, curr_change_24h, curr_change_7d, market_cap, market_cap_dominance])\n",
    "\n",
    "tableobj.field_names = [\"Currency Name\", \"Currency Price\", \"Currency 1h Change\", \"Currency 24h Change\", \"Currency 7d Change\", \"Market Capitalization\", \"Market Dominance\"]\n",
    "\n",
    "table_txt = tableobj.get_string()\n",
    "with open ('cryto2dollar.csv', 'w') as file:\n",
    "    file.write(table_txt)"
   ]
  }
 ],
 "metadata": {
  "kernelspec": {
   "display_name": "Python 3.9.7 ('base')",
   "language": "python",
   "name": "python3"
  },
  "language_info": {
   "codemirror_mode": {
    "name": "ipython",
    "version": 3
   },
   "file_extension": ".py",
   "mimetype": "text/x-python",
   "name": "python",
   "nbconvert_exporter": "python",
   "pygments_lexer": "ipython3",
   "version": "3.11.0"
  },
  "vscode": {
   "interpreter": {
    "hash": "473947f5b4a3923d0f4d163ebc73d36ff32a4fece99e963047871f65d6131d37"
   }
  }
 },
 "nbformat": 4,
 "nbformat_minor": 5
}
